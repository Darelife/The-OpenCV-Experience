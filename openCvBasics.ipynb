{
 "cells": [
  {
   "cell_type": "code",
   "execution_count": 8,
   "metadata": {},
   "outputs": [],
   "source": [
    "import cv2\n",
    "def getCammeraInput() -> cv2.VideoCapture:\n",
    "    return cv2.VideoCapture(0)\n",
    "\n",
    "def getFrame(cam: cv2.VideoCapture) -> cv2.VideoCapture:\n",
    "    ret, frame = cam.read()\n",
    "    return frame\n",
    "\n",
    "def showFrame(frame: cv2.VideoCapture):\n",
    "    cv2.imshow('frame', frame)\n",
    "\n",
    "def releaseCammera(cam: cv2.VideoCapture):\n",
    "    cam.release()\n",
    "    cv2.destroyAllWindows()\n",
    "\n",
    "def main():\n",
    "    cam = getCammeraInput()\n",
    "    while True:\n",
    "        frame = getFrame(cam)\n",
    "        showFrame(frame)\n",
    "        if cv2.waitKey(1) & 0xFF == ord('q'):\n",
    "            break\n",
    "    releaseCammera(cam)"
   ]
  }
 ],
 "metadata": {
  "kernelspec": {
   "display_name": "Python 3",
   "language": "python",
   "name": "python3"
  },
  "language_info": {
   "codemirror_mode": {
    "name": "ipython",
    "version": 3
   },
   "file_extension": ".py",
   "mimetype": "text/x-python",
   "name": "python",
   "nbconvert_exporter": "python",
   "pygments_lexer": "ipython3",
   "version": "3.12.8"
  }
 },
 "nbformat": 4,
 "nbformat_minor": 2
}
